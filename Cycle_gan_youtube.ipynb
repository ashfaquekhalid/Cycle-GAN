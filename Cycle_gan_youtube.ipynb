{
  "nbformat": 4,
  "nbformat_minor": 0,
  "metadata": {
    "colab": {
      "name": "Untitled56.ipynb",
      "provenance": [],
      "collapsed_sections": []
    },
    "kernelspec": {
      "display_name": "Python 3",
      "name": "python3"
    },
    "language_info": {
      "name": "python"
    },
    "accelerator": "GPU"
  },
  "cells": [
    {
      "cell_type": "code",
      "metadata": {
        "id": "l1WAETp5aPYr"
      },
      "source": [
        "import tensorflow as tf"
      ],
      "execution_count": 63,
      "outputs": []
    },
    {
      "cell_type": "code",
      "metadata": {
        "colab": {
          "base_uri": "https://localhost:8080/"
        },
        "id": "VRhENFK1ECWY",
        "outputId": "2503c208-8bd1-4d95-e1f7-cd1ea08bc85e"
      },
      "source": [
        "from google.colab import drive\n",
        "drive.mount('/content/drive')"
      ],
      "execution_count": 2,
      "outputs": [
        {
          "output_type": "stream",
          "text": [
            "Mounted at /content/drive\n"
          ],
          "name": "stdout"
        }
      ]
    },
    {
      "cell_type": "code",
      "metadata": {
        "colab": {
          "base_uri": "https://localhost:8080/"
        },
        "id": "EoGaVBCno_8C",
        "outputId": "fc583b5d-2991-45f7-d73d-31cb650343d1"
      },
      "source": [
        "pip install -q git+https://github.com/tensorflow/examples.git"
      ],
      "execution_count": 64,
      "outputs": [
        {
          "output_type": "stream",
          "text": [
            "  Building wheel for tensorflow-examples (setup.py) ... \u001b[?25l\u001b[?25hdone\n"
          ],
          "name": "stdout"
        }
      ]
    },
    {
      "cell_type": "code",
      "metadata": {
        "id": "qJggYRY8e6_8"
      },
      "source": [
        "import tensorflow_datasets as tfds\n",
        "from tensorflow_examples.models.pix2pix import pix2pix\n",
        "import cv2\n",
        "from google.colab.patches import cv2_imshow\n",
        "import os\n",
        "import time\n",
        "import matplotlib.pyplot as plt\n",
        "from IPython.display import clear_output\n",
        "\n",
        "AUTOTUNE = tf.data.AUTOTUNE"
      ],
      "execution_count": 65,
      "outputs": []
    },
    {
      "cell_type": "code",
      "metadata": {
        "id": "URk4sNcn0New",
        "colab": {
          "base_uri": "https://localhost:8080/"
        },
        "outputId": "6533507f-e4e8-4b5d-ee03-1e693d1f2068"
      },
      "source": [
        "pip install pytube"
      ],
      "execution_count": 72,
      "outputs": [
        {
          "output_type": "stream",
          "text": [
            "Collecting pytube\n",
            "\u001b[?25l  Downloading https://files.pythonhosted.org/packages/62/3b/087df50860bc4b4f517a83daf78a355fe233b4ef513192565ce1ed20a134/pytube-10.6.1-py3-none-any.whl (42kB)\n",
            "\r\u001b[K     |███████▋                        | 10kB 17.8MB/s eta 0:00:01\r\u001b[K     |███████████████▎                | 20kB 11.1MB/s eta 0:00:01\r\u001b[K     |███████████████████████         | 30kB 8.3MB/s eta 0:00:01\r\u001b[K     |██████████████████████████████▋ | 40kB 7.5MB/s eta 0:00:01\r\u001b[K     |████████████████████████████████| 51kB 2.3MB/s \n",
            "\u001b[?25hInstalling collected packages: pytube\n",
            "Successfully installed pytube-10.6.1\n"
          ],
          "name": "stdout"
        }
      ]
    },
    {
      "cell_type": "code",
      "metadata": {
        "id": "UZ6H_sIVzwF8",
        "colab": {
          "base_uri": "https://localhost:8080/",
          "height": 35
        },
        "outputId": "f62e353f-639f-4690-a66d-f5fc892dc552"
      },
      "source": [
        "import pytube\n",
        "\n",
        "url = 'https://www.youtube.com/watch?v=06-XXOTP3Gc'\n",
        "\n",
        "youtube = pytube.YouTube(url)\n",
        "video = youtube.streams.first()\n",
        "video.download('drive/MyDrive/Frames/Video/')"
      ],
      "execution_count": 74,
      "outputs": [
        {
          "output_type": "execute_result",
          "data": {
            "application/vnd.google.colaboratory.intrinsic+json": {
              "type": "string"
            },
            "text/plain": [
              "'/content/drive/MyDrive/Frames/Video/Shane Filan - Beautiful In White (Official Video).mp4'"
            ]
          },
          "metadata": {
            "tags": []
          },
          "execution_count": 74
        }
      ]
    },
    {
      "cell_type": "code",
      "metadata": {
        "colab": {
          "base_uri": "https://localhost:8080/"
        },
        "id": "L8hBjme1ARwb",
        "outputId": "39c88f74-7e1b-4ea2-d498-d154adfeca64"
      },
      "source": [
        "video = cv2.VideoCapture(\"drive/MyDrive/Frames/Video/Shane Filan - Beautiful In White (Official Video).mp4\")\n",
        "fps = video.get(cv2.CAP_PROP_FPS)\n",
        "fps"
      ],
      "execution_count": 75,
      "outputs": [
        {
          "output_type": "execute_result",
          "data": {
            "text/plain": [
              "25.0"
            ]
          },
          "metadata": {
            "tags": []
          },
          "execution_count": 75
        }
      ]
    },
    {
      "cell_type": "code",
      "metadata": {
        "id": "w6koLxUQwx6q"
      },
      "source": [
        "\n",
        "# Opens the Video file\n",
        "cap= cv2.VideoCapture('drive/MyDrive/Frames/Video/4K HDR 60FPS ● Sniper Will Smith (Gemini Man) ● Dolby Vision ● Dolby Atmos.mp4')\n",
        "i=0\n",
        "while(cap.isOpened()):\n",
        "    ret, frame = cap.read()\n",
        "    if ret == False:\n",
        "        break\n",
        "    if i%25==0:\n",
        "      cv2.imwrite('drive/MyDrive/Frames/Coloured/train'+str(i)+'.jpg',frame)\n",
        "      cv2.imwrite('drive/MyDrive/Frames/Uncoloured/train'+str(i)+'.jpg',cv2.cvtColor(frame, cv2.COLOR_BGR2GRAY))\n",
        "    i+=1\n",
        " \n",
        "cap.release()\n",
        "cv2.destroyAllWindows()"
      ],
      "execution_count": 56,
      "outputs": []
    },
    {
      "cell_type": "code",
      "metadata": {
        "id": "NMroGHaUDh4R"
      },
      "source": [
        "img = cv2.imread('drive/MyDrive/Frames/Uncoloured/train200.jpg')\n",
        "cv2_imshow(img)"
      ],
      "execution_count": null,
      "outputs": []
    },
    {
      "cell_type": "code",
      "metadata": {
        "id": "fAmb2Bn35XWM"
      },
      "source": [
        "img = cv2.imread('drive/MyDrive/Frames/Coloured/train200.jpg')\n",
        "cv2_imshow(img)"
      ],
      "execution_count": null,
      "outputs": []
    },
    {
      "cell_type": "code",
      "metadata": {
        "id": "5nnZv0WVC2cL"
      },
      "source": [
        "BUFFER_SIZE = 2000\n",
        "BATCH_SIZE = 1\n",
        "IMG_WIDTH = 256\n",
        "IMG_HEIGHT = 256"
      ],
      "execution_count": 6,
      "outputs": []
    },
    {
      "cell_type": "code",
      "metadata": {
        "id": "0iw0YW6oAHfz"
      },
      "source": [
        "PATH_black = 'drive/MyDrive/Frames/Uncoloured'\n",
        "PATH_color = 'drive/MyDrive/Frames/Coloured'"
      ],
      "execution_count": 7,
      "outputs": []
    },
    {
      "cell_type": "code",
      "metadata": {
        "id": "8Fpj590uBwf7"
      },
      "source": [
        "def load(image_file):\n",
        "  image = tf.io.read_file(image_file)\n",
        "  image = tf.image.decode_jpeg(image,channels=3)\n",
        "  input_image = tf.cast(image, tf.float32)\n",
        "\n",
        "  return input_image"
      ],
      "execution_count": 8,
      "outputs": []
    },
    {
      "cell_type": "code",
      "metadata": {
        "id": "J4cUWi0XAosZ"
      },
      "source": [
        "def resize(input_image, height, width):\n",
        "  input_image = tf.image.resize(input_image, [height, width],\n",
        "                                method=tf.image.ResizeMethod.NEAREST_NEIGHBOR)\n",
        "\n",
        "  return input_image"
      ],
      "execution_count": 9,
      "outputs": []
    },
    {
      "cell_type": "code",
      "metadata": {
        "id": "wfBHKxKBCX70"
      },
      "source": [
        "def random_crop(input_image):\n",
        "  cropped_image = tf.image.random_crop(\n",
        "      input_image, size=[ IMG_HEIGHT, IMG_WIDTH, 3])\n",
        "\n",
        "  return cropped_image"
      ],
      "execution_count": 10,
      "outputs": []
    },
    {
      "cell_type": "code",
      "metadata": {
        "id": "nJtJm-aoBDx9"
      },
      "source": [
        "def normalize(input_image):\n",
        "  input_image = (input_image / 127.5) - 1\n",
        "  return input_image"
      ],
      "execution_count": 11,
      "outputs": []
    },
    {
      "cell_type": "code",
      "metadata": {
        "id": "EDVqxFqiBISu"
      },
      "source": [
        "def random_jitter(input_image):\n",
        "  # resizing to 286 x 286 x 3\n",
        "  input_image = resize(input_image, 286, 286)\n",
        "\n",
        "  # randomly cropping to 256 x 256 x 3\n",
        "  input_image = random_crop(input_image)\n",
        "\n",
        "  if tf.random.uniform(()) > 0.5:\n",
        "    # random mirroring\n",
        "    input_image = tf.image.flip_left_right(input_image)\n",
        "\n",
        "  return input_image"
      ],
      "execution_count": 12,
      "outputs": []
    },
    {
      "cell_type": "code",
      "metadata": {
        "id": "YNnZ5pqIBb3F"
      },
      "source": [
        "def load_image_train(image_file):\n",
        "  input_image = load(image_file)\n",
        "  input_image = random_jitter(input_image)\n",
        "  input_image = normalize(input_image)\n",
        "\n",
        "  return input_image"
      ],
      "execution_count": 13,
      "outputs": []
    },
    {
      "cell_type": "code",
      "metadata": {
        "id": "xvWU4Od6QXO1"
      },
      "source": [
        "train_black = tf.data.Dataset.list_files(PATH_black+'/*.jpg')\n",
        "train_color = tf.data.Dataset.list_files(PATH_color+'/*.jpg')"
      ],
      "execution_count": 14,
      "outputs": []
    },
    {
      "cell_type": "code",
      "metadata": {
        "id": "Axy44pFF80S6"
      },
      "source": [
        "train_black = train_black.map(load_image_train,\n",
        "                                  num_parallel_calls=tf.data.AUTOTUNE)\n",
        "train_black = train_black.shuffle(BUFFER_SIZE)\n",
        "train_black = train_black.batch(BATCH_SIZE)"
      ],
      "execution_count": 15,
      "outputs": []
    },
    {
      "cell_type": "code",
      "metadata": {
        "id": "PVkraa9C_7_8"
      },
      "source": [
        "train_color = train_color.map(load_image_train,\n",
        "                                  num_parallel_calls=tf.data.AUTOTUNE)\n",
        "train_color = train_color.shuffle(BUFFER_SIZE)\n",
        "train_color = train_color.batch(BATCH_SIZE)"
      ],
      "execution_count": 16,
      "outputs": []
    },
    {
      "cell_type": "code",
      "metadata": {
        "colab": {
          "base_uri": "https://localhost:8080/",
          "height": 269
        },
        "id": "ntGApZ6DFBUS",
        "outputId": "41bf777f-9636-47df-a605-87825696cc3c"
      },
      "source": [
        "for img in train_color.take(1):\n",
        "  plt.imshow(img.numpy()[0]*0.5+0.5)"
      ],
      "execution_count": 17,
      "outputs": [
        {
          "output_type": "display_data",
          "data": {
            "image/png": "[encoded data removed]",
            "text/plain": [
              "<Figure size 432x288 with 1 Axes>"
            ]
          },
          "metadata": {
            "tags": [],
            "needs_background": "light"
          }
        }
      ]
    },
    {
      "cell_type": "code",
      "metadata": {
        "id": "0yFYkAbUoNOi"
      },
      "source": [
        "OUTPUT_CHANNELS = 3\n",
        "\n",
        "generator_g = pix2pix.unet_generator(OUTPUT_CHANNELS, norm_type='instancenorm')\n",
        "generator_f = pix2pix.unet_generator(OUTPUT_CHANNELS, norm_type='instancenorm')\n",
        "\n",
        "discriminator_x = pix2pix.discriminator(norm_type='instancenorm', target=False)\n",
        "discriminator_y = pix2pix.discriminator(norm_type='instancenorm', target=False)"
      ],
      "execution_count": 67,
      "outputs": []
    },
    {
      "cell_type": "code",
      "metadata": {
        "id": "cUfhkbKpoBdd"
      },
      "source": [
        "LAMBDA = 10\n",
        "loss_obj = tf.keras.losses.BinaryCrossentropy(from_logits=True)"
      ],
      "execution_count": 19,
      "outputs": []
    },
    {
      "cell_type": "code",
      "metadata": {
        "id": "iVoluK_7ph75"
      },
      "source": [
        "def discriminator_loss(real, generated):\n",
        "  real_loss = loss_obj(tf.ones_like(real), real)\n",
        "\n",
        "  generated_loss = loss_obj(tf.zeros_like(generated), generated)\n",
        "\n",
        "  total_disc_loss = real_loss + generated_loss\n",
        "\n",
        "  return total_disc_loss * 0.5"
      ],
      "execution_count": 20,
      "outputs": []
    },
    {
      "cell_type": "code",
      "metadata": {
        "id": "68rNMujHpk1b"
      },
      "source": [
        "def generator_loss(generated):\n",
        "  return loss_obj(tf.ones_like(generated), generated)"
      ],
      "execution_count": 21,
      "outputs": []
    },
    {
      "cell_type": "code",
      "metadata": {
        "id": "B03Rk8aypnx6"
      },
      "source": [
        "def calc_cycle_loss(real_image, cycled_image):\n",
        "  loss1 = tf.reduce_mean(tf.abs(real_image - cycled_image))\n",
        "\n",
        "  return LAMBDA * loss1"
      ],
      "execution_count": 22,
      "outputs": []
    },
    {
      "cell_type": "code",
      "metadata": {
        "id": "q9KBqzhDpq8i"
      },
      "source": [
        "def identity_loss(real_image, same_image):\n",
        "  loss = tf.reduce_mean(tf.abs(real_image - same_image))\n",
        "  return LAMBDA * 0.5 * loss"
      ],
      "execution_count": 23,
      "outputs": []
    },
    {
      "cell_type": "code",
      "metadata": {
        "id": "GYW0nqDcptgT"
      },
      "source": [
        "generator_g_optimizer = tf.keras.optimizers.Adam(2e-4, beta_1=0.5)\n",
        "generator_f_optimizer = tf.keras.optimizers.Adam(2e-4, beta_1=0.5)\n",
        "\n",
        "discriminator_x_optimizer = tf.keras.optimizers.Adam(2e-4, beta_1=0.5)\n",
        "discriminator_y_optimizer = tf.keras.optimizers.Adam(2e-4, beta_1=0.5)"
      ],
      "execution_count": 24,
      "outputs": []
    },
    {
      "cell_type": "code",
      "metadata": {
        "id": "RBKpGgilpwlM",
        "colab": {
          "base_uri": "https://localhost:8080/"
        },
        "outputId": "9e6c7ed1-f27f-4bff-c082-f59bcaab834e"
      },
      "source": [
        "checkpoint_path = \"drive/MyDrive/Frames/checkpoints/train\"\n",
        "\n",
        "ckpt = tf.train.Checkpoint(generator_g=generator_g,\n",
        "                           generator_f=generator_f,\n",
        "                           discriminator_x=discriminator_x,\n",
        "                           discriminator_y=discriminator_y,\n",
        "                           generator_g_optimizer=generator_g_optimizer,\n",
        "                           generator_f_optimizer=generator_f_optimizer,\n",
        "                           discriminator_x_optimizer=discriminator_x_optimizer,\n",
        "                           discriminator_y_optimizer=discriminator_y_optimizer)\n",
        "\n",
        "ckpt_manager = tf.train.CheckpointManager(ckpt, checkpoint_path, max_to_keep=1)\n",
        "\n",
        "# if a checkpoint exists, restore the latest checkpoint.\n",
        "if ckpt_manager.latest_checkpoint:\n",
        "  ckpt.restore(ckpt_manager.latest_checkpoint)\n",
        "  print ('Latest checkpoint restored!!')"
      ],
      "execution_count": 68,
      "outputs": [
        {
          "output_type": "stream",
          "text": [
            "Latest checkpoint restored!!\n"
          ],
          "name": "stdout"
        }
      ]
    },
    {
      "cell_type": "code",
      "metadata": {
        "id": "aItab5yFp1R0"
      },
      "source": [
        "def generate_images(model, test_input):\n",
        "  prediction = model(test_input)\n",
        "\n",
        "  plt.figure(figsize=(12, 12))\n",
        "\n",
        "  display_list = [test_input[0], prediction[0]]\n",
        "  title = ['Input Image', 'Predicted Image']\n",
        "\n",
        "  for i in range(2):\n",
        "    plt.subplot(1, 2, i+1)\n",
        "    plt.title(title[i])\n",
        "    # getting the pixel values between [0, 1] to plot it.\n",
        "    plt.imshow(display_list[i] * 0.5 + 0.5)\n",
        "    plt.axis('off')\n",
        "  plt.show()"
      ],
      "execution_count": 57,
      "outputs": []
    },
    {
      "cell_type": "code",
      "metadata": {
        "id": "bbjNdHF-p-Tx"
      },
      "source": [
        "@tf.function\n",
        "def train_step(real_x, real_y):\n",
        "  # persistent is set to True because the tape is used more than\n",
        "  # once to calculate the gradients.\n",
        "  with tf.GradientTape(persistent=True) as tape:\n",
        "    # Generator G translates X -> Y\n",
        "    # Generator F translates Y -> X.\n",
        "\n",
        "    fake_y = generator_g(real_x, training=True)\n",
        "    cycled_x = generator_f(fake_y, training=True)\n",
        "\n",
        "    fake_x = generator_f(real_y, training=True)\n",
        "    cycled_y = generator_g(fake_x, training=True)\n",
        "\n",
        "    # same_x and same_y are used for identity loss.\n",
        "    same_x = generator_f(real_x, training=True)\n",
        "    same_y = generator_g(real_y, training=True)\n",
        "\n",
        "    disc_real_x = discriminator_x(real_x, training=True)\n",
        "    disc_real_y = discriminator_y(real_y, training=True)\n",
        "\n",
        "    disc_fake_x = discriminator_x(fake_x, training=True)\n",
        "    disc_fake_y = discriminator_y(fake_y, training=True)\n",
        "\n",
        "    # calculate the loss\n",
        "    gen_g_loss = generator_loss(disc_fake_y)\n",
        "    gen_f_loss = generator_loss(disc_fake_x)\n",
        "\n",
        "    total_cycle_loss = calc_cycle_loss(real_x, cycled_x) + calc_cycle_loss(real_y, cycled_y)\n",
        "\n",
        "    # Total generator loss = adversarial loss + cycle loss\n",
        "    total_gen_g_loss = gen_g_loss + total_cycle_loss + identity_loss(real_y, same_y)\n",
        "    total_gen_f_loss = gen_f_loss + total_cycle_loss + identity_loss(real_x, same_x)\n",
        "    \n",
        "    disc_x_loss = discriminator_loss(disc_real_x, disc_fake_x)\n",
        "    disc_y_loss = discriminator_loss(disc_real_y, disc_fake_y)\n",
        "\n",
        "  # Calculate the gradients for generator and discriminator\n",
        "  generator_g_gradients = tape.gradient(total_gen_g_loss, \n",
        "                                        generator_g.trainable_variables)\n",
        "  generator_f_gradients = tape.gradient(total_gen_f_loss, \n",
        "                                        generator_f.trainable_variables)\n",
        "\n",
        "  discriminator_x_gradients = tape.gradient(disc_x_loss, \n",
        "                                            discriminator_x.trainable_variables)\n",
        "  discriminator_y_gradients = tape.gradient(disc_y_loss, \n",
        "                                            discriminator_y.trainable_variables)\n",
        "\n",
        "  # Apply the gradients to the optimizer\n",
        "  generator_g_optimizer.apply_gradients(zip(generator_g_gradients, \n",
        "                                            generator_g.trainable_variables))\n",
        "\n",
        "  generator_f_optimizer.apply_gradients(zip(generator_f_gradients, \n",
        "                                            generator_f.trainable_variables))\n",
        "\n",
        "  discriminator_x_optimizer.apply_gradients(zip(discriminator_x_gradients,\n",
        "                                                discriminator_x.trainable_variables))\n",
        "\n",
        "  discriminator_y_optimizer.apply_gradients(zip(discriminator_y_gradients,\n",
        "                                                discriminator_y.trainable_variables))\n",
        "  return total_gen_g_loss,total_gen_f_loss"
      ],
      "execution_count": 34,
      "outputs": []
    },
    {
      "cell_type": "code",
      "metadata": {
        "id": "A0vm48OqqDj5"
      },
      "source": [
        "g_g_loss = []\n",
        "g_f_loss = []\n",
        "EPOCHS = 40\n",
        "for epoch in range(EPOCHS):\n",
        "  start = time.time()\n",
        "  g_loss = 0\n",
        "  f_loss = 0\n",
        "  n = 0\n",
        "  for image_x, image_y in tf.data.Dataset.zip((train_black, train_color)):\n",
        "    g,f = train_step(image_x, image_y)\n",
        "    g_loss += g\n",
        "    f_loss += f\n",
        "    if n % 100 == 0:\n",
        "      print ('.', end='')\n",
        "    n += 1\n",
        "  g_g_loss.append(g_loss)\n",
        "  g_f_loss.append(f_loss)\n",
        "  clear_output(wait=True)\n",
        "  # Using a consistent image (sample_horse) so that the progress of the model\n",
        "  # is clearly visible.\n",
        "  for img in train_black.take(1):\n",
        "    generate_images(generator_g, img)\n",
        "                    \n",
        "  if (epoch+1)%10 == 0:\n",
        "    plt.plot(g_g_loss)\n",
        "    plt.plot(g_f_loss)\n",
        "    plt.show()\n",
        "    plt.savefig(\"plot.png\")\n",
        "  if (epoch + 1) % 5 == 0:\n",
        "    ckpt_save_path = ckpt_manager.save()\n",
        "    print ('Saving checkpoint for epoch {} at {}'.format(epoch+1,\n",
        "                                                         ckpt_save_path))\n",
        "\n",
        "  print ('Time taken for epoch {} is {} sec\\n'.format(epoch + 1,\n",
        "                                                      time.time()-start))"
      ],
      "execution_count": null,
      "outputs": []
    },
    {
      "cell_type": "code",
      "metadata": {
        "id": "K910FxkPsZau"
      },
      "source": [
        "for img in train_black.take(20):\n",
        "    generate_images(generator_g, img)"
      ],
      "execution_count": null,
      "outputs": []
    },
    {
      "cell_type": "code",
      "metadata": {
        "colab": {
          "base_uri": "https://localhost:8080/"
        },
        "id": "laT5zI25CmLo",
        "outputId": "c2926529-4021-4575-fed4-87b03445023a"
      },
      "source": [
        "cap= cv2.VideoCapture('drive/MyDrive/Frames/Video/Shane Filan - Beautiful In White (Official Video).mp4')\n",
        "ret, frame = cap.read()\n",
        "frame.shape"
      ],
      "execution_count": 76,
      "outputs": [
        {
          "output_type": "execute_result",
          "data": {
            "text/plain": [
              "(360, 640, 3)"
            ]
          },
          "metadata": {
            "tags": []
          },
          "execution_count": 76
        }
      ]
    },
    {
      "cell_type": "code",
      "metadata": {
        "id": "I_ZB2rrACW2l"
      },
      "source": [
        "import cv2 \n",
        "import numpy as np\n",
        "video_name = 'drive/MyDrive/Frames/Generated_video/generated_color.mp4'\n",
        "height, width, layers = frame.shape\n",
        "video = cv2.VideoWriter(video_name,cv2.VideoWriter_fourcc('M','J','P','G'), 25, (width, height)) \n",
        "cap= cv2.VideoCapture('drive/MyDrive/Frames/Video/Shane Filan - Beautiful In White (Official Video).mp4')\n",
        "while(cap.isOpened()):\n",
        "    ret, frame = cap.read()\n",
        "    if ret == False:\n",
        "        break\n",
        "    frame = tf.image.resize(frame, [256, 256],\n",
        "                                method=tf.image.ResizeMethod.NEAREST_NEIGHBOR)\n",
        "    frame = normalize(frame.numpy().astype(float))\n",
        "    img_gen = generator_g(tf.expand_dims(frame,axis=0))\n",
        "    video.write(((img_gen[0].numpy()+1)*127.5).astype(np.uint8))\n",
        "\n",
        "cv2.destroyAllWindows() \n",
        "video.release()"
      ],
      "execution_count": 78,
      "outputs": []
    }
  ]
}